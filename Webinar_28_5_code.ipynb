{
  "nbformat": 4,
  "nbformat_minor": 0,
  "metadata": {
    "colab": {
      "name": "Webinar 28/5 code.ipynb",
      "provenance": []
    },
    "kernelspec": {
      "name": "python3",
      "display_name": "Python 3"
    },
    "language_info": {
      "name": "python"
    },
    "accelerator": "GPU"
  },
  "cells": [
    {
      "cell_type": "code",
      "source": [
        "from sklearn.datasets import fetch_20newsgroups\n",
        "twenty_train = fetch_20newsgroups(subset='train', categories=['alt.atheism', 'soc.religion.christian','comp.graphics', 'sci.med'], shuffle=True, random_state=42)"
      ],
      "metadata": {
        "id": "JOUbWwvkDVLX"
      },
      "execution_count": null,
      "outputs": []
    },
    {
      "cell_type": "code",
      "source": [
        "print(\"\\n\".join(twenty_train.data[0].split(\"\\n\")))\n",
        "print(twenty_train.target_names[twenty_train.target[0]])"
      ],
      "metadata": {
        "colab": {
          "base_uri": "https://localhost:8080/"
        },
        "id": "LgT1xGAb2MCW",
        "outputId": "3fda3036-f6d0-45e2-e75b-57590abda99a"
      },
      "execution_count": null,
      "outputs": [
        {
          "output_type": "stream",
          "name": "stdout",
          "text": [
            "From: sd345@city.ac.uk (Michael Collier)\n",
            "Subject: Converting images to HP LaserJet III?\n",
            "Nntp-Posting-Host: hampton\n",
            "Organization: The City University\n",
            "Lines: 14\n",
            "\n",
            "Does anyone know of a good way (standard PC application/PD utility) to\n",
            "convert tif/img/tga files into LaserJet III format.  We would also like to\n",
            "do the same, converting to HPGL (HP plotter) files.\n",
            "\n",
            "Please email any response.\n",
            "\n",
            "Is this the correct group?\n",
            "\n",
            "Thanks in advance.  Michael.\n",
            "-- \n",
            "Michael Collier (Programmer)                 The Computer Unit,\n",
            "Email: M.P.Collier@uk.ac.city                The City University,\n",
            "Tel: 071 477-8000 x3769                      London,\n",
            "Fax: 071 477-8565                            EC1V 0HB.\n",
            "\n",
            "comp.graphics\n"
          ]
        }
      ]
    },
    {
      "cell_type": "code",
      "source": [
        "twenty_train.target_names"
      ],
      "metadata": {
        "colab": {
          "base_uri": "https://localhost:8080/"
        },
        "id": "S2W_iwgh2ITM",
        "outputId": "90d3da61-5f4c-4365-d7da-7eb4bb17be76"
      },
      "execution_count": null,
      "outputs": [
        {
          "output_type": "execute_result",
          "data": {
            "text/plain": [
              "['alt.atheism', 'comp.graphics', 'sci.med', 'soc.religion.christian']"
            ]
          },
          "metadata": {},
          "execution_count": 3
        }
      ]
    },
    {
      "cell_type": "code",
      "source": [
        "twenty_train.target"
      ],
      "metadata": {
        "colab": {
          "base_uri": "https://localhost:8080/"
        },
        "id": "YvH7SPiSAeDt",
        "outputId": "542e63bc-6136-4a6d-fafd-a394aeb445a4"
      },
      "execution_count": null,
      "outputs": [
        {
          "output_type": "execute_result",
          "data": {
            "text/plain": [
              "array([1, 1, 3, ..., 2, 2, 2])"
            ]
          },
          "metadata": {},
          "execution_count": 4
        }
      ]
    },
    {
      "cell_type": "code",
      "source": [
        "len(twenty_train.data)"
      ],
      "metadata": {
        "colab": {
          "base_uri": "https://localhost:8080/"
        },
        "id": "3GqPvJdsFi_W",
        "outputId": "61fbc8ae-627d-4802-cbda-6748e867dcbe"
      },
      "execution_count": null,
      "outputs": [
        {
          "output_type": "execute_result",
          "data": {
            "text/plain": [
              "2257"
            ]
          },
          "metadata": {},
          "execution_count": 5
        }
      ]
    },
    {
      "cell_type": "markdown",
      "source": [
        "# Tokenizing text with scikit-learn"
      ],
      "metadata": {
        "id": "iZoFfe1cLhO2"
      }
    },
    {
      "cell_type": "code",
      "source": [
        "from sklearn.feature_extraction.text import CountVectorizer\n",
        "count_vect = CountVectorizer()\n",
        "X_train_counts = count_vect.fit_transform(twenty_train.data)\n",
        "X_train_counts.shape #35788 different words"
      ],
      "metadata": {
        "colab": {
          "base_uri": "https://localhost:8080/"
        },
        "id": "Ycl-4KjTFcRA",
        "outputId": "a7e6e64f-f02e-41b3-b817-1f3873614b95"
      },
      "execution_count": null,
      "outputs": [
        {
          "output_type": "execute_result",
          "data": {
            "text/plain": [
              "(2257, 35788)"
            ]
          },
          "metadata": {},
          "execution_count": 6
        }
      ]
    },
    {
      "cell_type": "code",
      "source": [
        "len(count_vect.vocabulary_)"
      ],
      "metadata": {
        "colab": {
          "base_uri": "https://localhost:8080/"
        },
        "id": "I0O1TJ8X3jkR",
        "outputId": "964eb849-2d64-4895-aaa1-ef594fe74135"
      },
      "execution_count": null,
      "outputs": [
        {
          "output_type": "execute_result",
          "data": {
            "text/plain": [
              "35788"
            ]
          },
          "metadata": {},
          "execution_count": 7
        }
      ]
    },
    {
      "cell_type": "code",
      "source": [
        "count_vect.vocabulary_"
      ],
      "metadata": {
        "colab": {
          "base_uri": "https://localhost:8080/"
        },
        "id": "uMmhPIdmGBRj",
        "outputId": "55f9a1c3-b381-4d7d-80a1-7dca56d794b8"
      },
      "execution_count": null,
      "outputs": [
        {
          "output_type": "execute_result",
          "data": {
            "text/plain": [
              "{'from': 14887,\n",
              " 'sd345': 29022,\n",
              " 'city': 8696,\n",
              " 'ac': 4017,\n",
              " 'uk': 33256,\n",
              " 'michael': 21661,\n",
              " 'collier': 9031,\n",
              " 'subject': 31077,\n",
              " 'converting': 9805,\n",
              " 'images': 17366,\n",
              " 'to': 32493,\n",
              " 'hp': 16916,\n",
              " 'laserjet': 19780,\n",
              " 'iii': 17302,\n",
              " 'nntp': 23122,\n",
              " 'posting': 25663,\n",
              " 'host': 16881,\n",
              " 'hampton': 16082,\n",
              " 'organization': 23915,\n",
              " 'the': 32142,\n",
              " 'university': 33597,\n",
              " 'lines': 20253,\n",
              " '14': 587,\n",
              " 'does': 12051,\n",
              " 'anyone': 5201,\n",
              " 'know': 19458,\n",
              " 'of': 23610,\n",
              " 'good': 15576,\n",
              " 'way': 34755,\n",
              " 'standard': 30623,\n",
              " 'pc': 24651,\n",
              " 'application': 5285,\n",
              " 'pd': 24677,\n",
              " 'utility': 33915,\n",
              " 'convert': 9801,\n",
              " 'tif': 32391,\n",
              " 'img': 17389,\n",
              " 'tga': 32116,\n",
              " 'files': 14281,\n",
              " 'into': 18268,\n",
              " 'format': 14676,\n",
              " 'we': 34775,\n",
              " 'would': 35312,\n",
              " 'also': 4808,\n",
              " 'like': 20198,\n",
              " 'do': 12014,\n",
              " 'same': 28619,\n",
              " 'hpgl': 16927,\n",
              " 'plotter': 25361,\n",
              " 'please': 25337,\n",
              " 'email': 12833,\n",
              " 'any': 5195,\n",
              " 'response': 27836,\n",
              " 'is': 18474,\n",
              " 'this': 32270,\n",
              " 'correct': 9932,\n",
              " 'group': 15837,\n",
              " 'thanks': 32135,\n",
              " 'in': 17556,\n",
              " 'advance': 4378,\n",
              " 'programmer': 26175,\n",
              " 'computer': 9338,\n",
              " 'unit': 33572,\n",
              " 'tel': 31915,\n",
              " '071': 177,\n",
              " '477': 2326,\n",
              " '8000': 3062,\n",
              " 'x3769': 35416,\n",
              " 'london': 20459,\n",
              " 'fax': 14085,\n",
              " '8565': 3166,\n",
              " 'ec1v': 12541,\n",
              " '0hb': 230,\n",
              " 'ani': 5046,\n",
              " 'ms': 22366,\n",
              " 'uky': 33267,\n",
              " 'edu': 12626,\n",
              " 'aniruddha': 5062,\n",
              " 'deglurkar': 11001,\n",
              " 'help': 16418,\n",
              " 'splitting': 30464,\n",
              " 'trimming': 32915,\n",
              " 'region': 27378,\n",
              " 'along': 4788,\n",
              " 'mesh': 21550,\n",
              " 'kentucky': 19254,\n",
              " 'dept': 11193,\n",
              " 'math': 21153,\n",
              " 'sciences': 28899,\n",
              " '28': 1731,\n",
              " 'hi': 16550,\n",
              " 'have': 16254,\n",
              " 'problem': 26093,\n",
              " 'hope': 16833,\n",
              " 'some': 30173,\n",
              " 'gurus': 15949,\n",
              " 'can': 7766,\n",
              " 'me': 21322,\n",
              " 'solve': 30164,\n",
              " 'background': 6031,\n",
              " 'rectangular': 27238,\n",
              " 'uv': 33949,\n",
              " 'domain': 12075,\n",
              " 'mapping': 20985,\n",
              " '3d': 2148,\n",
              " 'bezier': 6574,\n",
              " 'patch': 24567,\n",
              " '2d': 1858,\n",
              " 'area': 5411,\n",
              " 'which': 34954,\n",
              " 'inside': 18016,\n",
              " 'loop': 20480,\n",
              " 'had': 16014,\n",
              " 'be': 6298,\n",
              " 'rendered': 27582,\n",
              " 'set': 29313,\n",
              " 'curve': 10471,\n",
              " 'segments': 29147,\n",
              " 'for': 14601,\n",
              " 'sake': 28580,\n",
              " 'notation': 23256,\n",
              " 'made': 20770,\n",
              " 'up': 33773,\n",
              " 'cells': 8153,\n",
              " 'my': 22541,\n",
              " 'has': 16216,\n",
              " 'split': 30462,\n",
              " 'individual': 17716,\n",
              " 'smaller': 29976,\n",
              " 'bounded': 7085,\n",
              " 'by': 7505,\n",
              " 'if': 17268,\n",
              " 'cell': 8150,\n",
              " 'wholly': 34992,\n",
              " 'then': 32164,\n",
              " 'it': 18551,\n",
              " 'output': 24079,\n",
              " 'as': 5549,\n",
              " 'whole': 34987,\n",
              " 'else': 12817,\n",
              " 'trivially': 32945,\n",
              " 'rejected': 27438,\n",
              " 'body': 6939,\n",
              " 'how': 16908,\n",
              " 'thiss': 32271,\n",
              " 'done': 12103,\n",
              " 'or': 23870,\n",
              " 'there': 32202,\n",
              " 'algo': 4687,\n",
              " 'somewhere': 30194,\n",
              " 'doing': 12065,\n",
              " 'appreciated': 5304,\n",
              " 'get': 15319,\n",
              " 'irritated': 18465,\n",
              " 'human': 16999,\n",
              " 'stay': 30701,\n",
              " 'cool': 9839,\n",
              " 'divine': 11944,\n",
              " 'djohnson': 11966,\n",
              " 'cs': 10324,\n",
              " 'ucsd': 33216,\n",
              " 'darin': 10667,\n",
              " 'johnson': 18893,\n",
              " 're': 27031,\n",
              " 'harrassed': 16194,\n",
              " 'at': 5698,\n",
              " 'work': 35255,\n",
              " 'could': 9992,\n",
              " 'use': 33858,\n",
              " 'prayers': 25765,\n",
              " 'cse': 10339,\n",
              " 'san': 28631,\n",
              " 'diego': 11499,\n",
              " '63': 2648,\n",
              " 'well': 34866,\n",
              " 'll': 20373,\n",
              " 'but': 7480,\n",
              " 'may': 21209,\n",
              " 'apply': 5289,\n",
              " 'other': 24020,\n",
              " 'people': 24784,\n",
              " 'so': 30068,\n",
              " 'post': 25646,\n",
              " 've': 34120,\n",
              " 'been': 6358,\n",
              " 'working': 35264,\n",
              " 'company': 9191,\n",
              " 'eight': 12703,\n",
              " 'years': 35587,\n",
              " 'various': 34083,\n",
              " 'engineering': 13051,\n",
              " 'jobs': 18863,\n",
              " 'female': 14166,\n",
              " 'yesterday': 35603,\n",
              " 'counted': 10004,\n",
              " 'and': 4992,\n",
              " 'realized': 27084,\n",
              " 'that': 32139,\n",
              " 'on': 23733,\n",
              " 'seven': 29333,\n",
              " 'different': 11520,\n",
              " 'occasions': 23548,\n",
              " 'sexually': 29352,\n",
              " 'dreaded': 12231,\n",
              " 'coming': 9110,\n",
              " 'back': 6024,\n",
              " 'today': 32506,\n",
              " 'what': 34923,\n",
              " 'boss': 7056,\n",
              " 'comes': 9098,\n",
              " 'ask': 5578,\n",
              " 'kind': 19370,\n",
              " 'question': 26709,\n",
              " 'your': 35648,\n",
              " 'should': 29578,\n",
              " 'person': 24895,\n",
              " 'bring': 7231,\n",
              " 'these': 32221,\n",
              " 'problems': 26097,\n",
              " 'he': 16302,\n",
              " 'she': 29455,\n",
              " 'not': 23250,\n",
              " 'seem': 29130,\n",
              " 'take': 31710,\n",
              " 'action': 4194,\n",
              " 'keep': 19210,\n",
              " 'going': 15545,\n",
              " 'higher': 16573,\n",
              " 'sexual': 29350,\n",
              " 'harrassment': 16195,\n",
              " 'need': 22774,\n",
              " 'tolerated': 32530,\n",
              " 'an': 4938,\n",
              " 'enormous': 13089,\n",
              " 'emotional': 12899,\n",
              " 'support': 31364,\n",
              " 'discuss': 11723,\n",
              " 'with': 35157,\n",
              " 'someone': 30180,\n",
              " 'they': 32233,\n",
              " 'are': 5410,\n",
              " 'trying': 32997,\n",
              " 'something': 30187,\n",
              " 'about': 3958,\n",
              " 'you': 35638,\n",
              " 'feel': 14135,\n",
              " 'perhaps': 24827,\n",
              " 'personnel': 24908,\n",
              " 'department': 11159,\n",
              " 'while': 34956,\n",
              " 'preserving': 25924,\n",
              " 'privacy': 26060,\n",
              " 'most': 22270,\n",
              " 'companies': 9188,\n",
              " 'will': 35057,\n",
              " 'want': 34660,\n",
              " 'deal': 10797,\n",
              " 'because': 6333,\n",
              " 'constant': 9614,\n",
              " 'anxiety': 5193,\n",
              " 'seriously': 29286,\n",
              " 'affect': 4431,\n",
              " 'effectively': 12659,\n",
              " 'employees': 12924,\n",
              " 'their': 32152,\n",
              " 'unclear': 33374,\n",
              " 'letter': 20054,\n",
              " 'inconceivable': 17622,\n",
              " 'management': 20906,\n",
              " 'remains': 27528,\n",
              " 'ignorant': 17283,\n",
              " 'employee': 12923,\n",
              " 'strife': 30973,\n",
              " 'even': 13491,\n",
              " 'after': 4471,\n",
              " 'miracle': 21859,\n",
              " 'notice': 23268,\n",
              " 'manager': 20907,\n",
              " 'did': 11493,\n",
              " 'attention': 5783,\n",
              " 'ups': 33807,\n",
              " 'indeed': 17666,\n",
              " 'ignore': 17287,\n",
              " 'entire': 13132,\n",
              " 'state': 30673,\n",
              " 'agency': 4496,\n",
              " 'willing': 35073,\n",
              " 'fight': 14265,\n",
              " 'check': 8380,\n",
              " 'lawyer': 19852,\n",
              " 'women': 35216,\n",
              " 'resource': 27816,\n",
              " 'center': 8159,\n",
              " 'etc': 13400,\n",
              " 'find': 14309,\n",
              " 'out': 24052,\n",
              " 'paster': 24555,\n",
              " 'priest': 26010,\n",
              " 'husband': 17055,\n",
              " 'judgemental': 19017,\n",
              " 'supportive': 31370,\n",
              " 'comforting': 9106,\n",
              " 'lot': 20517,\n",
              " 'healing': 16325,\n",
              " 'returned': 27926,\n",
              " '11': 336,\n",
              " '25': 1632,\n",
              " 'only': 23757,\n",
              " 'ever': 13503,\n",
              " 'single': 29769,\n",
              " 'already': 4805,\n",
              " 'left': 19951,\n",
              " 'lunch': 20631,\n",
              " '15': 677,\n",
              " 'no': 23123,\n",
              " 'one': 23741,\n",
              " 'bothered': 7065,\n",
              " 'call': 7714,\n",
              " 'building': 7391,\n",
              " 'though': 32297,\n",
              " 'number': 23363,\n",
              " 'was': 34703,\n",
              " 'posted': 25654,\n",
              " 'happens': 16136,\n",
              " 'honest': 16803,\n",
              " 'believe': 6430,\n",
              " 'due': 12354,\n",
              " 'gross': 15827,\n",
              " 'insensitivity': 18009,\n",
              " 'feelings': 14138,\n",
              " 'through': 32332,\n",
              " 'offices': 23636,\n",
              " 'tend': 31978,\n",
              " 'more': 22215,\n",
              " 'insensitive': 18008,\n",
              " 'than': 32131,\n",
              " 'normally': 23215,\n",
              " 'maybe': 21212,\n",
              " 'hustle': 17068,\n",
              " 'stress': 30954,\n",
              " 'happen': 16131,\n",
              " 'often': 23654,\n",
              " 'didn': 11495,\n",
              " 'realize': 27083,\n",
              " 'car': 7860,\n",
              " 'broken': 7265,\n",
              " 'come': 9093,\n",
              " 'wonder': 35218,\n",
              " 'why': 35006,\n",
              " 'go': 15511,\n",
              " 'make': 20862,\n",
              " 'stop': 30874,\n",
              " 'being': 6412,\n",
              " 'angry': 5041,\n",
              " 'ignored': 17288,\n",
              " 'laugh': 19819,\n",
              " 'once': 23736,\n",
              " 'went': 34876,\n",
              " 'off': 23614,\n",
              " 'without': 35168,\n",
              " 'our': 24046,\n",
              " 'who': 34982,\n",
              " 'paying': 24636,\n",
              " 'reason': 27103,\n",
              " 'mr': 22356,\n",
              " 'moderator': 22069,\n",
              " 'allows': 4766,\n",
              " 'latest': 19802,\n",
              " 'indulgence': 17737,\n",
              " 'turn': 33078,\n",
              " 'signs': 29690,\n",
              " 'age': 4492,\n",
              " 'closing': 8860,\n",
              " 'don': 12096,\n",
              " 'let': 20048,\n",
              " 'hateful': 16235,\n",
              " 'actions': 4195,\n",
              " 'harm': 16179,\n",
              " 'still': 30808,\n",
              " 'playground': 25324,\n",
              " 'bully': 7413,\n",
              " 'enjoy': 13068,\n",
              " 'seeing': 29124,\n",
              " 'hurt': 17050,\n",
              " 'cause': 8034,\n",
              " 'accept': 4039,\n",
              " 'opinions': 23815,\n",
              " 'imbecile': 17384,\n",
              " 'worthless': 35306,\n",
              " 'much': 22403,\n",
              " 'wiser': 35145,\n",
              " 'hold': 16743,\n",
              " 'great': 15743,\n",
              " 'esteem': 13379,\n",
              " 'luxury': 20663,\n",
              " 'day': 10752,\n",
              " 'bytes': 7517,\n",
              " 'swap': 31497,\n",
              " 's0612596': 28498,\n",
              " 'rug': 28425,\n",
              " 'nl': 23102,\n",
              " 'zwart': 35780,\n",
              " 'catholic': 8017,\n",
              " 'church': 8609,\n",
              " 'poland': 25461,\n",
              " 'faculteit': 13921,\n",
              " 'der': 11198,\n",
              " 'letteren': 20056,\n",
              " 'rijksuniversiteit': 28104,\n",
              " 'groningen': 15824,\n",
              " '10': 242,\n",
              " 'hello': 16413,\n",
              " 'writing': 35351,\n",
              " 'paper': 24382,\n",
              " 'role': 28256,\n",
              " '1989': 1097,\n",
              " 'tell': 31945,\n",
              " 'fill': 14285,\n",
              " 'recent': 27149,\n",
              " 'books': 7008,\n",
              " 'articles': 5530,\n",
              " 'english': 13055,\n",
              " 'german': 15305,\n",
              " 'french': 14842,\n",
              " 'important': 17508,\n",
              " 'concerning': 9379,\n",
              " 'abortion': 3954,\n",
              " 'law': 19841,\n",
              " 'religious': 27510,\n",
              " 'education': 12629,\n",
              " 'schools': 28877,\n",
              " 'birth': 6726,\n",
              " 'control': 9771,\n",
              " 'relation': 27456,\n",
              " 'government': 15618,\n",
              " 'thanx': 32138,\n",
              " 'masja': 21101,\n",
              " 'stanly': 30638,\n",
              " 'grok11': 15822,\n",
              " 'columbiasc': 9067,\n",
              " 'ncr': 22725,\n",
              " 'com': 9072,\n",
              " 'elder': 12731,\n",
              " 'brother': 7280,\n",
              " 'corp': 9925,\n",
              " 'columbia': 9066,\n",
              " 'sc': 28771,\n",
              " 'article': 5529,\n",
              " 'apr': 5340,\n",
              " '00': 0,\n",
              " '57': 2521,\n",
              " '41': 2203,\n",
              " '1993': 1102,\n",
              " '28246': 1742,\n",
              " 'athos': 5730,\n",
              " 'rutgers': 28473,\n",
              " 'rexlex': 27997,\n",
              " 'fnal': 14526,\n",
              " 'gov': 15612,\n",
              " 'writes': 35350,\n",
              " '01': 37,\n",
              " '56': 2513,\n",
              " '22824': 1540,\n",
              " 'shrum': 29610,\n",
              " 'hpfcso': 16926,\n",
              " 'fc': 14095,\n",
              " 'matt': 21176,\n",
              " '22': 1490,\n",
              " 'therefore': 32205,\n",
              " 'main': 20842,\n",
              " 'highways': 16585,\n",
              " 'many': 20978,\n",
              " 'invite': 18363,\n",
              " 'wedding': 34810,\n",
              " 'feast': 14109,\n",
              " 'hmmmmmm': 16703,\n",
              " 'sounds': 30250,\n",
              " 'theology': 32179,\n",
              " 'christ': 8544,\n",
              " 'odds': 23595,\n",
              " 'am': 4852,\n",
              " 'parable': 24395,\n",
              " 'jesus': 18774,\n",
              " 'tells': 31948,\n",
              " 'kingdom': 19383,\n",
              " 'heaven': 16358,\n",
              " 'unto': 33741,\n",
              " 'certain': 8197,\n",
              " 'king': 19382,\n",
              " 'marriage': 21060,\n",
              " 'his': 16642,\n",
              " 'son': 30199,\n",
              " 'clothes': 8863,\n",
              " 'were': 34879,\n",
              " 'customary': 10481,\n",
              " 'given': 15406,\n",
              " 'those': 32295,\n",
              " 'chose': 8525,\n",
              " 'attend': 5777,\n",
              " 'man': 20903,\n",
              " 'refused': 27352,\n",
              " 'wear': 34790,\n",
              " 'equalivant': 13239,\n",
              " 'righteousness': 28091,\n",
              " 'when': 34935,\n",
              " 'died': 11498,\n",
              " 'sins': 29785,\n",
              " 'provided': 26356,\n",
              " 'decision': 10874,\n",
              " 'put': 26570,\n",
              " 'vbv': 34111,\n",
              " 'lor': 20493,\n",
              " 'eeap': 12639,\n",
              " 'cwru': 10510,\n",
              " 'virgilio': 34360,\n",
              " 'dean': 10805,\n",
              " 'velasco': 34151,\n",
              " 'jr': 18983,\n",
              " 'arrogance': 5512,\n",
              " 'christians': 8559,\n",
              " 'case': 7965,\n",
              " 'western': 34896,\n",
              " 'reserve': 27768,\n",
              " 'univ': 33581,\n",
              " 'cleveland': 8795,\n",
              " 'ohio': 23662,\n",
              " 'usa': 33848,\n",
              " '2073': 1396,\n",
              " 'geneva': 15237,\n",
              " 'hayesstw': 16277,\n",
              " 'risc1': 28131,\n",
              " 'unisa': 33569,\n",
              " 'za': 35688,\n",
              " 'steve': 30776,\n",
              " 'hayes': 16276,\n",
              " 'similar': 29715,\n",
              " 'analogy': 4953,\n",
              " 'might': 21732,\n",
              " 'medical': 21386,\n",
              " 'doctor': 12026,\n",
              " 'believes': 6437,\n",
              " 'blood': 6863,\n",
              " 'transfusion': 32756,\n",
              " 'necessary': 22765,\n",
              " 'save': 28735,\n",
              " 'life': 20167,\n",
              " 'child': 8451,\n",
              " 'whose': 34999,\n",
              " 'parents': 24451,\n",
              " 'jehovah': 18729,\n",
              " 'witnesses': 35176,\n",
              " 'conscientious': 9557,\n",
              " 'objections': 23477,\n",
              " 'efforts': 12669,\n",
              " 'persuade': 24913,\n",
              " 'them': 32160,\n",
              " 'agree': 4529,\n",
              " 'perceived': 24793,\n",
              " 'arrogant': 5513,\n",
              " 'precisely': 25794,\n",
              " 'truth': 32989,\n",
              " 'otherwise': 24026,\n",
              " 'belief': 6426,\n",
              " 'irrelevant': 18452,\n",
              " 'here': 16482,\n",
              " 'matters': 21179,\n",
              " 'true': 32973,\n",
              " 'seen': 29135,\n",
              " 'foce': 14533,\n",
              " 'beliefs': 6427,\n",
              " 'carry': 7938,\n",
              " 'step': 30747,\n",
              " 'further': 15006,\n",
              " 'doctors': 12028,\n",
              " 'claim': 8713,\n",
              " 'infallible': 17784,\n",
              " 'generally': 15219,\n",
              " 'admit': 4330,\n",
              " 'conceivably': 9360,\n",
              " 'wrong': 35358,\n",
              " 'tranfusion': 32722,\n",
              " 'all': 4720,\n",
              " 'however': 16913,\n",
              " 'enough': 13091,\n",
              " 'confidence': 9461,\n",
              " 'conviction': 9816,\n",
              " 'genuine': 15261,\n",
              " 'concern': 9377,\n",
              " 'fallible': 13977,\n",
              " 'beings': 6413,\n",
              " 'must': 22509,\n",
              " 'acknowledge': 4153,\n",
              " 'possibility': 25640,\n",
              " 'say': 28755,\n",
              " 'such': 31180,\n",
              " 'doubts': 12166,\n",
              " 'reasonable': 27105,\n",
              " 'stand': 30621,\n",
              " 'convictions': 9817,\n",
              " 'electrical': 12746,\n",
              " 'eng': 13037,\n",
              " 'applied': 5287,\n",
              " 'physics': 25121,\n",
              " 'graduate': 15653,\n",
              " 'student': 31031,\n",
              " 'roboticist': 28207,\n",
              " 'training': 32709,\n",
              " 'wannabee': 34657,\n",
              " 'bullwinkle': 7412,\n",
              " 'intimidating': 18267,\n",
              " 'referee': 27307,\n",
              " 'very': 34229,\n",
              " 'doesn': 12052,\n",
              " 'look': 20470,\n",
              " 'jewish': 18779,\n",
              " 'carpenter': 7928,\n",
              " 'jodfishe': 18866,\n",
              " 'silver': 29706,\n",
              " 'ucs': 33213,\n",
              " 'indiana': 17687,\n",
              " 'joseph': 18929,\n",
              " 'dale': 10604,\n",
              " 'fisher': 14363,\n",
              " 'anger': 5030,\n",
              " '34': 2012,\n",
              " '17': 842,\n",
              " '44': 2258,\n",
              " '2232': 1512,\n",
              " 'news': 22944,\n",
              " 'cbnewsk': 8065,\n",
              " 'att': 5758,\n",
              " 'paul': 24616,\n",
              " 'conditt': 9428,\n",
              " 'insert': 18011,\n",
              " 'deletion': 11041,\n",
              " 'aaron': 3892,\n",
              " 'discourse': 11701,\n",
              " 'ref': 27304,\n",
              " 'galatians': 15060,\n",
              " '19': 966,\n",
              " '20': 1341,\n",
              " 'obvious': 23541,\n",
              " 'speaking': 30330,\n",
              " 'acts': 4211,\n",
              " 'flesh': 14440,\n",
              " 'just': 19076,\n",
              " 'emotions': 12902,\n",
              " 'themselves': 32163,\n",
              " 'moral': 22200,\n",
              " 'immoral': 17423,\n",
              " 'bad': 6057,\n",
              " 'first': 14357,\n",
              " 'label': 19649,\n",
              " 'emotion': 12898,\n",
              " 'numb': 23362,\n",
              " 'ourselves': 24050,\n",
              " 'hide': 16562,\n",
              " 'god': 15521,\n",
              " 'accepts': 4045,\n",
              " 'us': 33847,\n",
              " 'oh': 23660,\n",
              " 'definitely': 10983,\n",
              " 'colossians': 9056,\n",
              " 'ephesians': 13192,\n",
              " '27': 1700,\n",
              " 'controlled': 9774,\n",
              " 'puts': 26572,\n",
              " 'strong': 31000,\n",
              " 'emphasis': 12911,\n",
              " 'self': 29171,\n",
              " 'write': 35346,\n",
              " 'timothy': 32435,\n",
              " 'making': 20868,\n",
              " 'sure': 31394,\n",
              " 'teach': 31849,\n",
              " 'remainder': 27525,\n",
              " 'paragraph': 24411,\n",
              " 'think': 32253,\n",
              " 'quick': 26724,\n",
              " 'judge': 19014,\n",
              " 'forgiven': 14656,\n",
              " 'aids': 4566,\n",
              " 'dealt': 10802,\n",
              " 'taken': 31711,\n",
              " 'responsibility': 27840,\n",
              " 'appropriate': 5319,\n",
              " 'choices': 8499,\n",
              " 'read': 27049,\n",
              " 'yourself': 35651,\n",
              " 'joe': 18869,\n",
              " 'again': 4486,\n",
              " 'issue': 18542,\n",
              " 'especially': 13351,\n",
              " 'over': 24108,\n",
              " 'stem': 30741,\n",
              " 'instances': 18051,\n",
              " 'giving': 15408,\n",
              " 'soon': 30208,\n",
              " 'moore': 22193,\n",
              " 'aldridge': 4661,\n",
              " 'netcom': 22861,\n",
              " 'jacquelin': 18627,\n",
              " 'teenage': 31893,\n",
              " 'acne': 4165,\n",
              " 'line': 20242,\n",
              " 'communication': 9171,\n",
              " 'services': 29306,\n",
              " '408': 2198,\n",
              " '241': 1599,\n",
              " '9760': 3432,\n",
              " 'guest': 15907,\n",
              " 'pchurch': 24668,\n",
              " 'swell': 31528,\n",
              " 'actrix': 4210,\n",
              " 'gen': 15195,\n",
              " 'nz': 23432,\n",
              " 'pat': 24565,\n",
              " 'churchill': 8612,\n",
              " 'usual': 33889,\n",
              " 'spotty': 30494,\n",
              " 'chin': 8470,\n",
              " 'greasy': 15742,\n",
              " 'nose': 23240,\n",
              " 'bought': 7073,\n",
              " 'him': 16603,\n",
              " 'clearasil': 8777,\n",
              " 'face': 13892,\n",
              " 'wash': 34705,\n",
              " 'ointment': 23671,\n",
              " 'probably': 26085,\n",
              " 'diet': 11505,\n",
              " 'product': 26136,\n",
              " 'called': 7718,\n",
              " 'dalacin': 10602,\n",
              " 'used': 33860,\n",
              " 'prescription': 25907,\n",
              " 'treatment': 32847,\n",
              " 'available': 5906,\n",
              " 'chemist': 8406,\n",
              " 'counter': 10006,\n",
              " 'asked': 5580,\n",
              " 'couple': 10028,\n",
              " 'pharmacists': 24998,\n",
              " 'either': 12711,\n",
              " 'severe': 29337,\n",
              " 'ok': 23674,\n",
              " 'odd': 23589,\n",
              " 'spots': 30493,\n",
              " 'teenager': 31894,\n",
              " 'nothing': 23264,\n",
              " 'serious': 29285,\n",
              " 'father': 14060,\n",
              " 'figure': 14272,\n",
              " 'escalate': 13330,\n",
              " 'disfiguring': 11735,\n",
              " 'kids': 19336,\n",
              " 'senstitive': 29229,\n",
              " 'appearance': 5267,\n",
              " 'wary': 34702,\n",
              " 'neighbour': 22816,\n",
              " 'wierd': 35031,\n",
              " 'malady': 20873,\n",
              " 'eventually': 13501,\n",
              " 'down': 12176,\n",
              " 'overdose': 24121,\n",
              " 'vitamin': 34417,\n",
              " 'scaliness': 28779,\n",
              " 'around': 5489,\n",
              " 'hairline': 16038,\n",
              " 'scalp': 28783,\n",
              " 'sort': 30233,\n",
              " 'cradle': 10109,\n",
              " 'cap': 7820,\n",
              " 'pointers': 25445,\n",
              " 'advice': 4399,\n",
              " 'tried': 32898,\n",
              " 'anti': 5138,\n",
              " 'dandruff': 10633,\n",
              " 'shampoos': 29412,\n",
              " 'inclined': 17601,\n",
              " 'condition': 9423,\n",
              " 'worse': 35295,\n",
              " 'better': 6557,\n",
              " 'shall': 29399,\n",
              " 'bury': 7463,\n",
              " 'kid': 19330,\n",
              " 'till': 32409,\n",
              " '21': 1421,\n",
              " 'lucky': 20599,\n",
              " 'ones': 23746,\n",
              " 'little': 20342,\n",
              " 'luck': 20597,\n",
              " 'skin': 29864,\n",
              " 'gets': 15322,\n",
              " 'oily': 23668,\n",
              " 'really': 27088,\n",
              " 'miserable': 21898,\n",
              " 'pimples': 25200,\n",
              " 'dry': 12294,\n",
              " 'frequent': 14848,\n",
              " 'lukewarm': 20613,\n",
              " 'water': 34727,\n",
              " 'rinses': 28120,\n",
              " 'getting': 15323,\n",
              " 'thing': 32249,\n",
              " 'under': 33410,\n",
              " 'simple': 29724,\n",
              " 'submerging': 31093,\n",
              " 'bathwater': 6253,\n",
              " 'softened': 30112,\n",
              " 'washing': 34709,\n",
              " 'taking': 31716,\n",
              " 'mineral': 21814,\n",
              " 'heard': 16336,\n",
              " 'iodine': 18380,\n",
              " 'causes': 8037,\n",
              " 'trouble': 32962,\n",
              " 'fast': 14048,\n",
              " 'food': 14581,\n",
              " 'restaurants': 27850,\n",
              " 'sterilize': 30766,\n",
              " 'equipment': 13256,\n",
              " 'where': 34938,\n",
              " 'foods': 14583,\n",
              " 'came': 7746,\n",
              " 'grease': 15741,\n",
              " 'immediately': 17410,\n",
              " 'removed': 27567,\n",
              " 'eating': 12524,\n",
              " 'meat': 21356,\n",
              " 'keeping': 19213,\n",
              " 'hair': 16036,\n",
              " 'rinse': 28119,\n",
              " 'mousse': 22315,\n",
              " 'dip': 11599,\n",
              " 'spray': 30502,\n",
              " 'warm': 34672,\n",
              " 'bath': 6248,\n",
              " 'soaks': 30071,\n",
              " 'cloths': 8865,\n",
              " 'soften': 30111,\n",
              " 'oil': 23667,\n",
              " 'pores': 25580,\n",
              " 'prevent': 25983,\n",
              " 'blackheads': 6774,\n",
              " 'hydrophilic': 17093,\n",
              " 'loves': 20543,\n",
              " 'softens': 30113,\n",
              " 'washes': 34708,\n",
              " 'chance': 8278,\n",
              " 'goes': 15541,\n",
              " 'limp': 20226,\n",
              " 'oilyness': 23669,\n",
              " 'becoming': 6342,\n",
              " 'convinced': 9820,\n",
              " 'best': 6540,\n",
              " 'whitehead': 34973,\n",
              " 'leave': 19926,\n",
              " 'alone': 4787,\n",
              " 'days': 10760,\n",
              " 'pimple': 25199,\n",
              " 'misery': 21901,\n",
              " 'prying': 26386,\n",
              " 'black': 6773,\n",
              " 'whiteheads': 34974,\n",
              " 'infections': 17796,\n",
              " 'red': 27255,\n",
              " 'usually': 33891,\n",
              " 'break': 7167,\n",
              " 'naturally': 22686,\n",
              " 'won': 35217,\n",
              " 'infection': 17795,\n",
              " 'afterwards': 4479,\n",
              " 'normal': 23210,\n",
              " 'cosmetic': 9970,\n",
              " 'industry': 17742,\n",
              " 'makes': 20866,\n",
              " 'money': 22135,\n",
              " 'selling': 29180,\n",
              " 'idea': 17219,\n",
              " 'incredible': 17650,\n",
              " 'defect': 10949,\n",
              " 'hidden': 16561,\n",
              " 'cost': 9981,\n",
              " 'causing': 8039,\n",
              " 'jackie': 18618,\n",
              " 'geb': 15173,\n",
              " 'pitt': 25234,\n",
              " 'gordon': 15591,\n",
              " 'banks': 6140,\n",
              " 'blindsight': 6838,\n",
              " 'reply': 27664,\n",
              " 'pittsburgh': 25237,\n",
              " 'science': 28897,\n",
              " '18': 896,\n",
              " 'werner': 34881,\n",
              " '240393161954': 1594,\n",
              " 'tol7mac15': 32522,\n",
              " 'soe': 30105,\n",
              " 'berkeley': 6507,\n",
              " 'john': 18880,\n",
              " '19213': 995,\n",
              " 'uucp': 33940,\n",
              " 'wrote': 35363,\n",
              " 'explain': 13733,\n",
              " 'thought': 32298,\n",
              " 'types': 33142,\n",
              " 'cones': 9444,\n",
              " 'equivalent': 13259,\n",
              " 'rgb': 28011,\n",
              " 'basically': 6223,\n",
              " 'right': 28089,\n",
              " 'sensitive': 29222,\n",
              " 'green': 15755,\n",
              " 'blue': 6882,\n",
              " 'yellow': 35597,\n",
              " 'two': 33125,\n",
              " 'common': 9158,\n",
              " 'kinds': 19378,\n",
              " 'color': 9045,\n",
              " 'blindness': 6836,\n",
              " 'yes': 35601,\n",
              " 'remember': 27543,\n",
              " 'now': 23301,\n",
              " 'contrary': 9748,\n",
              " 'original': 23940,\n",
              " 'respondent': 27832,\n",
              " 'claimed': 8715,\n",
              " 'n3jxp': 22582,\n",
              " 'skepticism': 29848,\n",
              " 'chastity': 8362,\n",
              " 'intellect': 18117,\n",
              " 'cadre': 7665,\n",
              " 'dsl': 12307,\n",
              " 'shameful': 29408,\n",
              " 'surrender': 31424,\n",
              " 'too': 32570,\n",
              " 'libman': 20133,\n",
              " 'hsc': 16954,\n",
              " 'usc': 33853,\n",
              " 'marlena': 21053,\n",
              " 'patient': 24593,\n",
              " 'relationship': 27459,\n",
              " 'southern': 30259,\n",
              " 'california': 7711,\n",
              " 'los': 20506,\n",
              " 'angeles': 5026,\n",
              " 'ca': 7643,\n",
              " '64': 2667,\n",
              " 'situation': 29813,\n",
              " 'occurred': 23566,\n",
              " 'between': 6561,\n",
              " 'physican': 25115,\n",
              " 'upset': 33808,\n",
              " 'saw': 28747,\n",
              " 'recurring': 27248,\n",
              " 'pain': 24296,\n",
              " 'suggested': 31218,\n",
              " 'medication': 21389,\n",
              " 'course': 10037,\n",
              " 'told': 32523,\n",
              " 'begin': 6381,\n",
              " 'monitor': 22140,\n",
              " 'its': 18585,\n",
              " 'effectiveness': 12660,\n",
              " 'general': 15209,\n",
              " 'health': 16328,\n",
              " 'exactly': 13552,\n",
              " 'reaching': 27038,\n",
              " 'secretary': 29094,\n",
              " 'explained': 13737,\n",
              " 'her': 16470,\n",
              " 'following': 14565,\n",
              " 'request': 27727,\n",
              " 'worried': 35290,\n",
              " 'episodes': 13215,\n",
              " 'effective': 12658,\n",
              " 'words': 35249,\n",
              " 'whatever': 34924,\n",
              " 'busy': 7479,\n",
              " 'time': 32417,\n",
              " 'chit': 8493,\n",
              " 'chat': 8363,\n",
              " 'simply': 29736,\n",
              " 'instructions': 18080,\n",
              " '7th': 3052,\n",
              " 'status': 30696,\n",
              " 'feeling': 14137,\n",
              " 'talk': 31723,\n",
              " 'responded': 27831,\n",
              " 'spit': 30445,\n",
              " 'said': 28573,\n",
              " 'raised': 26849,\n",
              " 'voice': 34463,\n",
              " 'started': 30661,\n",
              " 'quickly': 26727,\n",
              " 'nervousness': 22847,\n",
              " 'interfered': 18176,\n",
              " 'choice': 8498,\n",
              " 'stuttered': 31052,\n",
              " ...}"
            ]
          },
          "metadata": {},
          "execution_count": 8
        }
      ]
    },
    {
      "cell_type": "code",
      "source": [
        "print(X_train_counts[0].data) #every number corresponds to a unique word from the document and represents the times that word appears in the document\n",
        "print(len(X_train_counts[0].data))\n",
        "print(count_vect.inverse_transform(X_train_counts[0])) # city appears 4 times in the document"
      ],
      "metadata": {
        "colab": {
          "base_uri": "https://localhost:8080/"
        },
        "id": "rdou8wf9Fp-W",
        "outputId": "ffe2fd5e-ce6b-4898-88aa-e0559180aeb3"
      },
      "execution_count": null,
      "outputs": [
        {
          "output_type": "stream",
          "name": "stdout",
          "text": [
            "[1 1 4 2 2 3 3 1 2 1 4 2 2 2 1 1 1 1 1 5 2 1 1 1 1 1 1 1 1 1 1 1 1 1 1 1 1\n",
            " 1 2 1 1 1 1 1 1 1 1 1 1 1 2 1 1 1 1 1 1 1 1 1 1 1 1 1 2 2 1 1 1 1 1 1 1]\n",
            "73\n",
            "[array(['from', 'sd345', 'city', 'ac', 'uk', 'michael', 'collier',\n",
            "       'subject', 'converting', 'images', 'to', 'hp', 'laserjet', 'iii',\n",
            "       'nntp', 'posting', 'host', 'hampton', 'organization', 'the',\n",
            "       'university', 'lines', '14', 'does', 'anyone', 'know', 'of',\n",
            "       'good', 'way', 'standard', 'pc', 'application', 'pd', 'utility',\n",
            "       'convert', 'tif', 'img', 'tga', 'files', 'into', 'format', 'we',\n",
            "       'would', 'also', 'like', 'do', 'same', 'hpgl', 'plotter', 'please',\n",
            "       'email', 'any', 'response', 'is', 'this', 'correct', 'group',\n",
            "       'thanks', 'in', 'advance', 'programmer', 'computer', 'unit', 'tel',\n",
            "       '071', '477', '8000', 'x3769', 'london', 'fax', '8565', 'ec1v',\n",
            "       '0hb'], dtype='<U80')]\n"
          ]
        }
      ]
    },
    {
      "cell_type": "code",
      "source": [
        "for frequency, word in list(zip(X_train_counts[0].data, count_vect.inverse_transform(X_train_counts[0])[0])):\n",
        "  print(word, frequency)"
      ],
      "metadata": {
        "colab": {
          "base_uri": "https://localhost:8080/"
        },
        "id": "ZoW_5nm_H2FV",
        "outputId": "e205874f-40aa-4191-9743-bef1f5e871ce"
      },
      "execution_count": null,
      "outputs": [
        {
          "output_type": "stream",
          "name": "stdout",
          "text": [
            "from 1\n",
            "sd345 1\n",
            "city 4\n",
            "ac 2\n",
            "uk 2\n",
            "michael 3\n",
            "collier 3\n",
            "subject 1\n",
            "converting 2\n",
            "images 1\n",
            "to 4\n",
            "hp 2\n",
            "laserjet 2\n",
            "iii 2\n",
            "nntp 1\n",
            "posting 1\n",
            "host 1\n",
            "hampton 1\n",
            "organization 1\n",
            "the 5\n",
            "university 2\n",
            "lines 1\n",
            "14 1\n",
            "does 1\n",
            "anyone 1\n",
            "know 1\n",
            "of 1\n",
            "good 1\n",
            "way 1\n",
            "standard 1\n",
            "pc 1\n",
            "application 1\n",
            "pd 1\n",
            "utility 1\n",
            "convert 1\n",
            "tif 1\n",
            "img 1\n",
            "tga 1\n",
            "files 2\n",
            "into 1\n",
            "format 1\n",
            "we 1\n",
            "would 1\n",
            "also 1\n",
            "like 1\n",
            "do 1\n",
            "same 1\n",
            "hpgl 1\n",
            "plotter 1\n",
            "please 1\n",
            "email 2\n",
            "any 1\n",
            "response 1\n",
            "is 1\n",
            "this 1\n",
            "correct 1\n",
            "group 1\n",
            "thanks 1\n",
            "in 1\n",
            "advance 1\n",
            "programmer 1\n",
            "computer 1\n",
            "unit 1\n",
            "tel 1\n",
            "071 2\n",
            "477 2\n",
            "8000 1\n",
            "x3769 1\n",
            "london 1\n",
            "fax 1\n",
            "8565 1\n",
            "ec1v 1\n",
            "0hb 1\n"
          ]
        }
      ]
    },
    {
      "cell_type": "code",
      "source": [
        "# CountVectorizer supports counts of N-grams of words or consecutive characters. Once fitted, the vectorizer has built a dictionary of feature indices:\n",
        "word_to_find = \"science\"\n",
        "count_vect_idx = count_vect.vocabulary_.get(word_to_find)\n",
        "print(f\"The index of '{word_to_find}' is {count_vect_idx}\")"
      ],
      "metadata": {
        "colab": {
          "base_uri": "https://localhost:8080/"
        },
        "id": "JQIRF0mFF4Q9",
        "outputId": "67aa1d04-322b-4a0d-e85f-a85f0f708de1"
      },
      "execution_count": null,
      "outputs": [
        {
          "output_type": "stream",
          "name": "stdout",
          "text": [
            "The index of 'science' is 28897\n"
          ]
        }
      ]
    },
    {
      "cell_type": "code",
      "source": [
        "#lookup some word by their index in countvect\n",
        "for word, idx in count_vect.vocabulary_.items(): \n",
        "    if idx == 26568:\n",
        "        print(word)"
      ],
      "metadata": {
        "colab": {
          "base_uri": "https://localhost:8080/"
        },
        "id": "4zz2HcsBB6f6",
        "outputId": "64d93cb3-0838-4499-b39b-15fef8772b03"
      },
      "execution_count": null,
      "outputs": [
        {
          "output_type": "stream",
          "name": "stdout",
          "text": [
            "pushes\n"
          ]
        }
      ]
    },
    {
      "cell_type": "markdown",
      "source": [
        "## From occurrences to frequencies"
      ],
      "metadata": {
        "id": "5IXPwvtZLd5A"
      }
    },
    {
      "cell_type": "code",
      "source": [
        "# Occurrence count is a good start but there is an issue: longer documents will have higher average count values than shorter documents, even though they might talk about the same topics.\n",
        "# To avoid these potential discrepancies it suffices to divide the number of occurrences of each word in a document by the total number of words in the document: these new features are called tf for Term Frequencies.\n",
        "\n",
        "from sklearn.feature_extraction.text import TfidfTransformer\n",
        "tf_transformer = TfidfTransformer(use_idf=False)\n",
        "tf_transformer.fit(X_train_counts)\n",
        "X_train_tf = tf_transformer.transform(X_train_counts) # only term frequency in single documents\n",
        "X_train_tf.shape"
      ],
      "metadata": {
        "colab": {
          "base_uri": "https://localhost:8080/"
        },
        "id": "ix_z-q3zH-ZX",
        "outputId": "321931c6-8a2f-40ae-c17b-31375938fe88"
      },
      "execution_count": null,
      "outputs": [
        {
          "output_type": "execute_result",
          "data": {
            "text/plain": [
              "(2257, 35788)"
            ]
          },
          "metadata": {},
          "execution_count": 13
        }
      ]
    },
    {
      "cell_type": "code",
      "source": [
        "# print(len(X_train_tf[0].data))\n",
        "# print(X_train_tf[0].data)\n",
        "# print(count_vect.inverse_transform(X_train_counts[0]))\n",
        "doc_words_tf = X_train_tf[0].data\n",
        "doc_unique_words = list(count_vect.inverse_transform(X_train_counts[0])[0])\n",
        "\n",
        "print(\"WORD\\t\\t\\t\\tTF\")\n",
        "for tf, word in zip(doc_words_tf,doc_unique_words):\n",
        "  print(f\"{word}\\t\\t\\t\\t{tf}\")"
      ],
      "metadata": {
        "colab": {
          "base_uri": "https://localhost:8080/"
        },
        "id": "Rf6BaJ0gE2pg",
        "outputId": "43c9fceb-2435-4e9b-cce9-041c45cac771"
      },
      "execution_count": null,
      "outputs": [
        {
          "output_type": "stream",
          "name": "stdout",
          "text": [
            "WORD\t\t\t\tTF\n",
            "071\t\t\t\t0.15075567228888181\n",
            "0hb\t\t\t\t0.07537783614444091\n",
            "14\t\t\t\t0.07537783614444091\n",
            "477\t\t\t\t0.15075567228888181\n",
            "8000\t\t\t\t0.07537783614444091\n",
            "8565\t\t\t\t0.07537783614444091\n",
            "ac\t\t\t\t0.15075567228888181\n",
            "advance\t\t\t\t0.07537783614444091\n",
            "also\t\t\t\t0.07537783614444091\n",
            "any\t\t\t\t0.07537783614444091\n",
            "anyone\t\t\t\t0.07537783614444091\n",
            "application\t\t\t\t0.07537783614444091\n",
            "city\t\t\t\t0.30151134457776363\n",
            "collier\t\t\t\t0.22613350843332272\n",
            "computer\t\t\t\t0.07537783614444091\n",
            "convert\t\t\t\t0.07537783614444091\n",
            "converting\t\t\t\t0.15075567228888181\n",
            "correct\t\t\t\t0.07537783614444091\n",
            "do\t\t\t\t0.07537783614444091\n",
            "does\t\t\t\t0.07537783614444091\n",
            "ec1v\t\t\t\t0.07537783614444091\n",
            "email\t\t\t\t0.15075567228888181\n",
            "fax\t\t\t\t0.07537783614444091\n",
            "files\t\t\t\t0.15075567228888181\n",
            "format\t\t\t\t0.07537783614444091\n",
            "from\t\t\t\t0.07537783614444091\n",
            "good\t\t\t\t0.07537783614444091\n",
            "group\t\t\t\t0.07537783614444091\n",
            "hampton\t\t\t\t0.07537783614444091\n",
            "host\t\t\t\t0.07537783614444091\n",
            "hp\t\t\t\t0.15075567228888181\n",
            "hpgl\t\t\t\t0.07537783614444091\n",
            "iii\t\t\t\t0.15075567228888181\n",
            "images\t\t\t\t0.07537783614444091\n",
            "img\t\t\t\t0.07537783614444091\n",
            "in\t\t\t\t0.07537783614444091\n",
            "into\t\t\t\t0.07537783614444091\n",
            "is\t\t\t\t0.07537783614444091\n",
            "know\t\t\t\t0.07537783614444091\n",
            "laserjet\t\t\t\t0.15075567228888181\n",
            "like\t\t\t\t0.07537783614444091\n",
            "lines\t\t\t\t0.07537783614444091\n",
            "london\t\t\t\t0.07537783614444091\n",
            "michael\t\t\t\t0.22613350843332272\n",
            "nntp\t\t\t\t0.07537783614444091\n",
            "of\t\t\t\t0.07537783614444091\n",
            "organization\t\t\t\t0.07537783614444091\n",
            "pc\t\t\t\t0.07537783614444091\n",
            "pd\t\t\t\t0.07537783614444091\n",
            "please\t\t\t\t0.07537783614444091\n",
            "plotter\t\t\t\t0.07537783614444091\n",
            "posting\t\t\t\t0.07537783614444091\n",
            "programmer\t\t\t\t0.07537783614444091\n",
            "response\t\t\t\t0.07537783614444091\n",
            "same\t\t\t\t0.07537783614444091\n",
            "sd345\t\t\t\t0.07537783614444091\n",
            "standard\t\t\t\t0.07537783614444091\n",
            "subject\t\t\t\t0.07537783614444091\n",
            "tel\t\t\t\t0.07537783614444091\n",
            "tga\t\t\t\t0.07537783614444091\n",
            "thanks\t\t\t\t0.07537783614444091\n",
            "the\t\t\t\t0.3768891807222045\n",
            "this\t\t\t\t0.07537783614444091\n",
            "tif\t\t\t\t0.07537783614444091\n",
            "to\t\t\t\t0.30151134457776363\n",
            "uk\t\t\t\t0.15075567228888181\n",
            "unit\t\t\t\t0.07537783614444091\n",
            "university\t\t\t\t0.15075567228888181\n",
            "utility\t\t\t\t0.07537783614444091\n",
            "way\t\t\t\t0.07537783614444091\n",
            "we\t\t\t\t0.07537783614444091\n",
            "would\t\t\t\t0.07537783614444091\n",
            "x3769\t\t\t\t0.07537783614444091\n"
          ]
        }
      ]
    },
    {
      "cell_type": "code",
      "source": [
        "#Another refinement on top of tf is to decrease weights for words that occur in many documents in the corpus and are therefore less informative than those that occur only in a smaller portion of the corpus.\n",
        "#this is done using the inverse document frequency or idf\n",
        "\n",
        "tfidf_transformer = TfidfTransformer()\n",
        "X_train_tfidf = tfidf_transformer.fit_transform(X_train_counts) \n",
        "X_train_tfidf.shape"
      ],
      "metadata": {
        "colab": {
          "base_uri": "https://localhost:8080/"
        },
        "id": "jx4VMgduIDme",
        "outputId": "fee530f4-d773-4ee2-d3dc-0264748c1efc"
      },
      "execution_count": null,
      "outputs": [
        {
          "output_type": "execute_result",
          "data": {
            "text/plain": [
              "(2257, 35788)"
            ]
          },
          "metadata": {},
          "execution_count": 15
        }
      ]
    },
    {
      "cell_type": "code",
      "source": [
        "doc_words_tfidf = X_train_tfidf[0].data\n",
        "doc_unique_words = list(count_vect.inverse_transform(X_train_counts[0])[0])\n",
        "\n",
        "print(\"WORD\\t\\t\\t\\tTF\\t\\t\\t\\tTFIDF\")\n",
        "for tf, tfidf, word in zip(doc_words_tf,doc_words_tfidf,doc_unique_words):\n",
        "  print(f\"{word}\\t\\t\\t\\t{tf}\\t\\t\\t\\t{tfidf}\")"
      ],
      "metadata": {
        "colab": {
          "base_uri": "https://localhost:8080/"
        },
        "id": "HZ3KiJv6FyVq",
        "outputId": "3214cf3d-affa-48aa-8ddd-1d73c711677f"
      },
      "execution_count": null,
      "outputs": [
        {
          "output_type": "stream",
          "name": "stdout",
          "text": [
            "WORD\t\t\t\tTF\t\t\t\tTFIDF\n",
            "071\t\t\t\t0.15075567228888181\t\t\t\t0.1348710554299733\n",
            "0hb\t\t\t\t0.07537783614444091\t\t\t\t0.0312703097833574\n",
            "14\t\t\t\t0.07537783614444091\t\t\t\t0.034481472140846715\n",
            "477\t\t\t\t0.15075567228888181\t\t\t\t0.043341654399042764\n",
            "8000\t\t\t\t0.07537783614444091\t\t\t\t0.0999409997803694\n",
            "8565\t\t\t\t0.07537783614444091\t\t\t\t0.06567578043186388\n",
            "ac\t\t\t\t0.15075567228888181\t\t\t\t0.09313007554599557\n",
            "advance\t\t\t\t0.07537783614444091\t\t\t\t0.11819702490105698\n",
            "also\t\t\t\t0.07537783614444091\t\t\t\t0.07283773941616518\n",
            "any\t\t\t\t0.07537783614444091\t\t\t\t0.12806013119559947\n",
            "anyone\t\t\t\t0.07537783614444091\t\t\t\t0.023871142738151236\n",
            "application\t\t\t\t0.07537783614444091\t\t\t\t0.08865416253721688\n",
            "city\t\t\t\t0.30151134457776363\t\t\t\t0.04910237380446671\n",
            "collier\t\t\t\t0.22613350843332272\t\t\t\t0.10218403421141944\n",
            "computer\t\t\t\t0.07537783614444091\t\t\t\t0.08631915131162177\n",
            "convert\t\t\t\t0.07537783614444091\t\t\t\t0.016797806021219684\n",
            "converting\t\t\t\t0.15075567228888181\t\t\t\t0.0686611288079694\n",
            "correct\t\t\t\t0.07537783614444091\t\t\t\t0.1348710554299733\n",
            "do\t\t\t\t0.07537783614444091\t\t\t\t0.047271576160535234\n",
            "does\t\t\t\t0.07537783614444091\t\t\t\t0.06899050810672397\n",
            "ec1v\t\t\t\t0.07537783614444091\t\t\t\t0.08497460943470851\n",
            "email\t\t\t\t0.15075567228888181\t\t\t\t0.034290706362898604\n",
            "fax\t\t\t\t0.07537783614444091\t\t\t\t0.11947938145690981\n",
            "files\t\t\t\t0.15075567228888181\t\t\t\t0.04935883383975408\n",
            "format\t\t\t\t0.07537783614444091\t\t\t\t0.09796250319482307\n",
            "from\t\t\t\t0.07537783614444091\t\t\t\t0.07802072428618635\n",
            "good\t\t\t\t0.07537783614444091\t\t\t\t0.017762318563562172\n",
            "group\t\t\t\t0.07537783614444091\t\t\t\t0.018249940796073682\n",
            "hampton\t\t\t\t0.07537783614444091\t\t\t\t0.036374916362300114\n",
            "host\t\t\t\t0.07537783614444091\t\t\t\t0.1962279892331408\n",
            "hp\t\t\t\t0.15075567228888181\t\t\t\t0.10960585507802437\n",
            "hpgl\t\t\t\t0.07537783614444091\t\t\t\t0.016864892977128034\n",
            "iii\t\t\t\t0.15075567228888181\t\t\t\t0.035904358813682244\n",
            "images\t\t\t\t0.07537783614444091\t\t\t\t0.24645540709354397\n",
            "img\t\t\t\t0.07537783614444091\t\t\t\t0.034782593244413566\n",
            "in\t\t\t\t0.07537783614444091\t\t\t\t0.019964881751854364\n",
            "into\t\t\t\t0.07537783614444091\t\t\t\t0.04525255408845407\n",
            "is\t\t\t\t0.07537783614444091\t\t\t\t0.01894546434959984\n",
            "know\t\t\t\t0.07537783614444091\t\t\t\t0.12322770354677198\n",
            "laserjet\t\t\t\t0.15075567228888181\t\t\t\t0.0744441018788533\n",
            "like\t\t\t\t0.07537783614444091\t\t\t\t0.18626015109199115\n",
            "lines\t\t\t\t0.07537783614444091\t\t\t\t0.12322770354677198\n",
            "london\t\t\t\t0.07537783614444091\t\t\t\t0.17358472047671197\n",
            "michael\t\t\t\t0.22613350843332272\t\t\t\t0.0360441471878483\n",
            "nntp\t\t\t\t0.07537783614444091\t\t\t\t0.11382738609462074\n",
            "of\t\t\t\t0.07537783614444091\t\t\t\t0.05417404179868691\n",
            "organization\t\t\t\t0.07537783614444091\t\t\t\t0.042703686357211466\n",
            "pc\t\t\t\t0.07537783614444091\t\t\t\t0.016797806021219684\n",
            "pd\t\t\t\t0.07537783614444091\t\t\t\t0.07691883385947053\n",
            "please\t\t\t\t0.07537783614444091\t\t\t\t0.13635772403701527\n",
            "plotter\t\t\t\t0.07537783614444091\t\t\t\t0.06666452137859726\n",
            "posting\t\t\t\t0.07537783614444091\t\t\t\t0.125601499991304\n",
            "programmer\t\t\t\t0.07537783614444091\t\t\t\t0.1348710554299733\n",
            "response\t\t\t\t0.07537783614444091\t\t\t\t0.037793189755988436\n",
            "same\t\t\t\t0.07537783614444091\t\t\t\t0.031042954435189937\n",
            "sd345\t\t\t\t0.07537783614444091\t\t\t\t0.06350565647195339\n",
            "standard\t\t\t\t0.07537783614444091\t\t\t\t0.21567205914741705\n",
            "subject\t\t\t\t0.07537783614444091\t\t\t\t0.07830787326179856\n",
            "tel\t\t\t\t0.07537783614444091\t\t\t\t0.049671845493333165\n",
            "tga\t\t\t\t0.07537783614444091\t\t\t\t0.3841803935867984\n",
            "thanks\t\t\t\t0.07537783614444091\t\t\t\t0.314400065528974\n",
            "the\t\t\t\t0.3768891807222045\t\t\t\t0.08413454409085573\n",
            "this\t\t\t\t0.07537783614444091\t\t\t\t0.04316199700711876\n",
            "tif\t\t\t\t0.07537783614444091\t\t\t\t0.0310951485922154\n",
            "to\t\t\t\t0.30151134457776363\t\t\t\t0.03900412426100995\n",
            "uk\t\t\t\t0.15075567228888181\t\t\t\t0.0686611288079694\n",
            "unit\t\t\t\t0.07537783614444091\t\t\t\t0.12491817585060791\n",
            "university\t\t\t\t0.15075567228888181\t\t\t\t0.1348710554299733\n",
            "utility\t\t\t\t0.07537783614444091\t\t\t\t0.10783602957370853\n",
            "way\t\t\t\t0.07537783614444091\t\t\t\t0.24645540709354397\n",
            "we\t\t\t\t0.07537783614444091\t\t\t\t0.05966162012870271\n",
            "would\t\t\t\t0.07537783614444091\t\t\t\t0.1348710554299733\n",
            "x3769\t\t\t\t0.07537783614444091\t\t\t\t0.25612026239119895\n"
          ]
        }
      ]
    },
    {
      "cell_type": "markdown",
      "source": [
        "# Training a classifier"
      ],
      "metadata": {
        "id": "JNPTwK1kLXvN"
      }
    },
    {
      "cell_type": "code",
      "source": [
        "# Now that we have our features, we can train a classifier to try to predict the category of a post. \n",
        "# Let’s start with a naïve Bayes classifier, which provides a nice baseline for this task. scikit-learn includes several variants of this classifier; \n",
        "# the one most suitable for word counts is the multinomial variant:\n",
        "from sklearn.naive_bayes import MultinomialNB\n",
        "clf = MultinomialNB()\n",
        "clf.fit(X_train_tfidf, twenty_train.target)"
      ],
      "metadata": {
        "id": "clqLUPPSKKRu",
        "colab": {
          "base_uri": "https://localhost:8080/"
        },
        "outputId": "ea5e2764-299a-4fcf-ab7b-bc9b64aa2484"
      },
      "execution_count": null,
      "outputs": [
        {
          "output_type": "execute_result",
          "data": {
            "text/plain": [
              "MultinomialNB()"
            ]
          },
          "metadata": {},
          "execution_count": 17
        }
      ]
    },
    {
      "cell_type": "code",
      "source": [
        "docs_new = ['God is love', 'OpenGL on the GPU is fast', \"A new vaccination against covid disease has been found\"]\n",
        "X_new_counts = count_vect.transform(docs_new)\n",
        "X_new_tfidf = tfidf_transformer.transform(X_new_counts)\n",
        "\n",
        "predicted = clf.predict(X_new_tfidf)\n",
        "\n",
        "for doc, category in zip(docs_new, predicted):\n",
        "  print(f'{doc} => {twenty_train.target_names[category]}')"
      ],
      "metadata": {
        "colab": {
          "base_uri": "https://localhost:8080/"
        },
        "id": "C8XhkCH_KU-l",
        "outputId": "5aeb2979-ec93-4921-f116-95b5b5b68523"
      },
      "execution_count": null,
      "outputs": [
        {
          "output_type": "stream",
          "name": "stdout",
          "text": [
            "God is love => soc.religion.christian\n",
            "OpenGL on the GPU is fast => comp.graphics\n",
            "A new vaccination against covid disease has been found => sci.med\n"
          ]
        }
      ]
    },
    {
      "cell_type": "markdown",
      "source": [
        "# Building a pipeline"
      ],
      "metadata": {
        "id": "CykCepwjLT5Z"
      }
    },
    {
      "cell_type": "code",
      "source": [
        "from sklearn.pipeline import Pipeline\n",
        "text_clf = Pipeline([\n",
        "     ('vect', CountVectorizer()),\n",
        "     ('tfidf', TfidfTransformer()),\n",
        "     ('clf', MultinomialNB()),\n",
        " ])"
      ],
      "metadata": {
        "id": "chJCfgv-LF-u"
      },
      "execution_count": null,
      "outputs": []
    },
    {
      "cell_type": "code",
      "source": [
        "text_clf.fit(twenty_train.data, twenty_train.target)"
      ],
      "metadata": {
        "colab": {
          "base_uri": "https://localhost:8080/"
        },
        "id": "cD6LsDi6LPzt",
        "outputId": "1b89ddfa-577e-4f48-f050-4c2243e88783"
      },
      "execution_count": null,
      "outputs": [
        {
          "output_type": "execute_result",
          "data": {
            "text/plain": [
              "Pipeline(steps=[('vect', CountVectorizer()), ('tfidf', TfidfTransformer()),\n",
              "                ('clf', MultinomialNB())])"
            ]
          },
          "metadata": {},
          "execution_count": 21
        }
      ]
    },
    {
      "cell_type": "markdown",
      "source": [
        "# Evaluation of the performance on the test set"
      ],
      "metadata": {
        "id": "9HRFpUAMLpoW"
      }
    },
    {
      "cell_type": "code",
      "source": [
        "import numpy as np\n",
        "twenty_test = fetch_20newsgroups(subset='test', categories=['alt.atheism', 'soc.religion.christian','comp.graphics', 'sci.med'], shuffle=True, random_state=42)\n",
        "docs_test = twenty_test.data\n",
        "predicted = text_clf.predict(docs_test)\n",
        "np.mean(predicted == twenty_test.target)"
      ],
      "metadata": {
        "colab": {
          "base_uri": "https://localhost:8080/"
        },
        "id": "xKJ4azxcLrFO",
        "outputId": "ecf31920-5e25-422b-a86e-395d971d7863"
      },
      "execution_count": null,
      "outputs": [
        {
          "output_type": "execute_result",
          "data": {
            "text/plain": [
              "0.8348868175765646"
            ]
          },
          "metadata": {},
          "execution_count": 23
        }
      ]
    },
    {
      "cell_type": "code",
      "source": [
        "print(predicted)\n",
        "print(twenty_test.target)\n"
      ],
      "metadata": {
        "colab": {
          "base_uri": "https://localhost:8080/"
        },
        "id": "zMUXMh_jPi86",
        "outputId": "e3cbea32-1040-411c-9cda-534f64210823"
      },
      "execution_count": null,
      "outputs": [
        {
          "output_type": "stream",
          "name": "stdout",
          "text": [
            "[2 2 3 ... 2 2 1]\n",
            "[2 2 2 ... 2 2 1]\n"
          ]
        }
      ]
    },
    {
      "cell_type": "code",
      "source": [
        "# Let’s see if we can do better with a linear support vector machine (SVM), which is widely regarded as one of the best text classification algorithms\n",
        "\n",
        "from sklearn.linear_model import SGDClassifier\n",
        "text_clf = Pipeline([\n",
        "    ('vect', CountVectorizer()),\n",
        "    ('tfidf', TfidfTransformer()),\n",
        "    ('clf', SGDClassifier(loss='hinge', \n",
        "                          penalty='l2',\n",
        "                          alpha=0.001, \n",
        "                          random_state=42,\n",
        "                          max_iter=5, \n",
        "                          tol=None)),\n",
        "]) # https://ogrisel.github.io/scikit-learn.org/sklearn-tutorial/modules/generated/sklearn.linear_model.SGDClassifier.html - loss hinge determines linear svm behaviour\n",
        "\n",
        "text_clf.fit(twenty_train.data, twenty_train.target)\n",
        "predicted = text_clf.predict(docs_test)\n",
        "np.mean(predicted == twenty_test.target)"
      ],
      "metadata": {
        "colab": {
          "base_uri": "https://localhost:8080/"
        },
        "id": "bqJkB8RjL4RO",
        "outputId": "589f27c9-a943-4ca7-e437-c65e586644e1"
      },
      "execution_count": null,
      "outputs": [
        {
          "output_type": "execute_result",
          "data": {
            "text/plain": [
              "0.9101198402130493"
            ]
          },
          "metadata": {},
          "execution_count": 25
        }
      ]
    },
    {
      "cell_type": "code",
      "source": [
        "from sklearn import metrics\n",
        "print(metrics.classification_report(twenty_test.target, predicted, target_names=twenty_test.target_names))\n"
      ],
      "metadata": {
        "colab": {
          "base_uri": "https://localhost:8080/"
        },
        "id": "roFM_bfYOCVV",
        "outputId": "33302109-ae8d-415d-b212-c91228cfec9f"
      },
      "execution_count": null,
      "outputs": [
        {
          "output_type": "stream",
          "name": "stdout",
          "text": [
            "                        precision    recall  f1-score   support\n",
            "\n",
            "           alt.atheism       0.95      0.80      0.87       319\n",
            "         comp.graphics       0.87      0.98      0.92       389\n",
            "               sci.med       0.94      0.89      0.91       396\n",
            "soc.religion.christian       0.90      0.95      0.93       398\n",
            "\n",
            "              accuracy                           0.91      1502\n",
            "             macro avg       0.91      0.91      0.91      1502\n",
            "          weighted avg       0.91      0.91      0.91      1502\n",
            "\n"
          ]
        }
      ]
    },
    {
      "cell_type": "code",
      "source": [
        "cm = metrics.confusion_matrix(twenty_test.target, predicted)\n",
        "disp = metrics.ConfusionMatrixDisplay(cm, display_labels=twenty_test.target_names)\n",
        "disp.plot(xticks_rotation=\"vertical\")"
      ],
      "metadata": {
        "colab": {
          "base_uri": "https://localhost:8080/",
          "height": 390
        },
        "id": "dCRAw6uiOLwd",
        "outputId": "b2ebdf3c-5602-43c5-ddd0-b961275415ec"
      },
      "execution_count": null,
      "outputs": [
        {
          "output_type": "execute_result",
          "data": {
            "text/plain": [
              "<sklearn.metrics._plot.confusion_matrix.ConfusionMatrixDisplay at 0x7f4ac7ae3a50>"
            ]
          },
          "metadata": {},
          "execution_count": 27
        },
        {
          "output_type": "display_data",
          "data": {
            "text/plain": [
              "<Figure size 432x288 with 2 Axes>"
            ],
            "image/png": "[encoded data removed]"
          },
          "metadata": {
            "needs_background": "light"
          }
        }
      ]
    },
    {
      "cell_type": "markdown",
      "source": [
        "# Parameter tuning using grid search"
      ],
      "metadata": {
        "id": "ENTwnlztO8hF"
      }
    },
    {
      "cell_type": "code",
      "source": [
        "from sklearn.model_selection import GridSearchCV\n",
        "parameters = {\n",
        "    'vect__ngram_range': [(1, 1), (1, 2)],\n",
        "    'tfidf__use_idf': (True, False),\n",
        "    'clf__alpha': (0.01, 0.001, 0.0001),\n",
        "}"
      ],
      "metadata": {
        "id": "SxCp92zUO7MY"
      },
      "execution_count": null,
      "outputs": []
    },
    {
      "cell_type": "code",
      "source": [
        "gs_clf = GridSearchCV(text_clf, parameters, cv=5, n_jobs=-1)"
      ],
      "metadata": {
        "id": "dPx10bw-Pz9n"
      },
      "execution_count": null,
      "outputs": []
    },
    {
      "cell_type": "code",
      "source": [
        "gs_clf = gs_clf.fit(twenty_train.data, twenty_train.target)"
      ],
      "metadata": {
        "id": "D3xNI6CuP8jN"
      },
      "execution_count": null,
      "outputs": []
    },
    {
      "cell_type": "code",
      "source": [
        "twenty_train.target_names[gs_clf.predict(['God is love'])[0]]"
      ],
      "metadata": {
        "colab": {
          "base_uri": "https://localhost:8080/",
          "height": 35
        },
        "id": "xM0I0uoMQIs9",
        "outputId": "c4001a63-e1cb-49f0-fee0-a7e4a9cd5ca9"
      },
      "execution_count": null,
      "outputs": [
        {
          "output_type": "execute_result",
          "data": {
            "text/plain": [
              "'soc.religion.christian'"
            ],
            "application/vnd.google.colaboratory.intrinsic+json": {
              "type": "string"
            }
          },
          "metadata": {},
          "execution_count": 31
        }
      ]
    },
    {
      "cell_type": "code",
      "source": [
        "gs_clf.best_score_"
      ],
      "metadata": {
        "colab": {
          "base_uri": "https://localhost:8080/"
        },
        "id": "UgyVI3zoQaxd",
        "outputId": "9c93e643-1f8f-47e4-d7c0-7f758e24b920"
      },
      "execution_count": null,
      "outputs": [
        {
          "output_type": "execute_result",
          "data": {
            "text/plain": [
              "0.9711996938955713"
            ]
          },
          "metadata": {},
          "execution_count": 32
        }
      ]
    },
    {
      "cell_type": "code",
      "source": [
        "print(f\"Original classifier accuracy: {np.mean(text_clf.predict(docs_test) == twenty_test.target)}\")\n",
        "print(f\"Grid search classifier accuracy: {np.mean(gs_clf.best_estimator_.predict(docs_test) == twenty_test.target)}\")"
      ],
      "metadata": {
        "colab": {
          "base_uri": "https://localhost:8080/"
        },
        "id": "qvJLELHHf1yR",
        "outputId": "e0d68047-109f-4a2e-fe3d-3dea0d8d2a21"
      },
      "execution_count": null,
      "outputs": [
        {
          "output_type": "stream",
          "name": "stdout",
          "text": [
            "Original classifier accuracy: 0.9101198402130493\n",
            "Grid search classifier accuracy: 0.9247669773635153\n"
          ]
        }
      ]
    },
    {
      "cell_type": "code",
      "source": [
        "for param_name in sorted(parameters.keys()):\n",
        "  print(f\"{param_name}: {gs_clf.best_params_[param_name]}\")"
      ],
      "metadata": {
        "colab": {
          "base_uri": "https://localhost:8080/"
        },
        "id": "v-g5V9HQQj7d",
        "outputId": "76cb9074-fb0c-4165-afc0-8a1fe319ac16"
      },
      "execution_count": null,
      "outputs": [
        {
          "output_type": "stream",
          "name": "stdout",
          "text": [
            "clf__alpha: 0.0001\n",
            "tfidf__use_idf: True\n",
            "vect__ngram_range: (1, 1)\n"
          ]
        }
      ]
    },
    {
      "cell_type": "code",
      "source": [
        "# The cv_results_ parameter can be easily imported into pandas as a DataFrame for further inspection.\n",
        "import pandas as pd\n",
        "pd.DataFrame(gs_clf.cv_results_)\n",
        "\n",
        "#we see that generally using term frequency + inverse document frequency instead of just term frequency yelds better results"
      ],
      "metadata": {
        "colab": {
          "base_uri": "https://localhost:8080/",
          "height": 1076
        },
        "id": "TlNTraGhQ4YF",
        "outputId": "ba1ae7df-2e7f-4732-e8c9-15aad8e27a20"
      },
      "execution_count": null,
      "outputs": [
        {
          "output_type": "execute_result",
          "data": {
            "text/plain": [
              "    mean_fit_time  std_fit_time  mean_score_time  std_score_time  \\\n",
              "0        0.691115      0.011565         0.151566        0.016699   \n",
              "1        2.420084      0.041851         0.315422        0.004897   \n",
              "2        0.655135      0.036139         0.134220        0.007048   \n",
              "3        2.378171      0.036120         0.309279        0.024767   \n",
              "4        0.680175      0.037617         0.132948        0.009553   \n",
              "5        2.475501      0.042632         0.322778        0.009345   \n",
              "6        0.648877      0.029709         0.140574        0.015484   \n",
              "7        2.407900      0.045426         0.324937        0.011466   \n",
              "8        0.663651      0.033135         0.141205        0.010604   \n",
              "9        2.443267      0.037207         0.310558        0.013843   \n",
              "10       0.659779      0.032156         0.127262        0.007084   \n",
              "11       2.170589      0.316727         0.282047        0.061121   \n",
              "\n",
              "   param_clf__alpha param_tfidf__use_idf param_vect__ngram_range  \\\n",
              "0              0.01                 True                  (1, 1)   \n",
              "1              0.01                 True                  (1, 2)   \n",
              "2              0.01                False                  (1, 1)   \n",
              "3              0.01                False                  (1, 2)   \n",
              "4             0.001                 True                  (1, 1)   \n",
              "5             0.001                 True                  (1, 2)   \n",
              "6             0.001                False                  (1, 1)   \n",
              "7             0.001                False                  (1, 2)   \n",
              "8            0.0001                 True                  (1, 1)   \n",
              "9            0.0001                 True                  (1, 2)   \n",
              "10           0.0001                False                  (1, 1)   \n",
              "11           0.0001                False                  (1, 2)   \n",
              "\n",
              "                                               params  split0_test_score  \\\n",
              "0   {'clf__alpha': 0.01, 'tfidf__use_idf': True, '...           0.904867   \n",
              "1   {'clf__alpha': 0.01, 'tfidf__use_idf': True, '...           0.935841   \n",
              "2   {'clf__alpha': 0.01, 'tfidf__use_idf': False, ...           0.820796   \n",
              "3   {'clf__alpha': 0.01, 'tfidf__use_idf': False, ...           0.825221   \n",
              "4   {'clf__alpha': 0.001, 'tfidf__use_idf': True, ...           0.964602   \n",
              "5   {'clf__alpha': 0.001, 'tfidf__use_idf': True, ...           0.966814   \n",
              "6   {'clf__alpha': 0.001, 'tfidf__use_idf': False,...           0.915929   \n",
              "7   {'clf__alpha': 0.001, 'tfidf__use_idf': False,...           0.931416   \n",
              "8   {'clf__alpha': 0.0001, 'tfidf__use_idf': True,...           0.971239   \n",
              "9   {'clf__alpha': 0.0001, 'tfidf__use_idf': True,...           0.975664   \n",
              "10  {'clf__alpha': 0.0001, 'tfidf__use_idf': False...           0.951327   \n",
              "11  {'clf__alpha': 0.0001, 'tfidf__use_idf': False...           0.957965   \n",
              "\n",
              "    split1_test_score  split2_test_score  split3_test_score  \\\n",
              "0            0.915929           0.866962           0.895787   \n",
              "1            0.926991           0.898004           0.913525   \n",
              "2            0.787611           0.796009           0.833703   \n",
              "3            0.809735           0.813747           0.855876   \n",
              "4            0.962389           0.962306           0.964523   \n",
              "5            0.962389           0.953437           0.960089   \n",
              "6            0.896018           0.929047           0.913525   \n",
              "7            0.922566           0.935698           0.929047   \n",
              "8            0.973451           0.968958           0.966741   \n",
              "9            0.973451           0.968958           0.968958   \n",
              "10           0.944690           0.940133           0.940133   \n",
              "11           0.955752           0.957871           0.953437   \n",
              "\n",
              "    split4_test_score  mean_test_score  std_test_score  rank_test_score  \n",
              "0            0.911308         0.898971        0.017374               10  \n",
              "1            0.920177         0.918908        0.012803                8  \n",
              "2            0.796009         0.806826        0.017440               12  \n",
              "3            0.820399         0.824996        0.016335               11  \n",
              "4            0.973392         0.965443        0.004097                3  \n",
              "5            0.964523         0.961450        0.004586                4  \n",
              "6            0.935698         0.918043        0.013732                9  \n",
              "7            0.937916         0.931329        0.005375                7  \n",
              "8            0.975610         0.971200        0.003144                1  \n",
              "9            0.966741         0.970754        0.003285                2  \n",
              "10           0.957871         0.946831        0.006876                6  \n",
              "11           0.964523         0.957910        0.003699                5  "
            ],
            "text/html": [
              "\n",
              "  <div id=\"df-16443e63-d5e6-47c7-993f-893283c44eec\">\n",
              "    <div class=\"colab-df-container\">\n",
              "      <div>\n",
              "<style scoped>\n",
              "    .dataframe tbody tr th:only-of-type {\n",
              "        vertical-align: middle;\n",
              "    }\n",
              "\n",
              "    .dataframe tbody tr th {\n",
              "        vertical-align: top;\n",
              "    }\n",
              "\n",
              "    .dataframe thead th {\n",
              "        text-align: right;\n",
              "    }\n",
              "</style>\n",
              "<table border=\"1\" class=\"dataframe\">\n",
              "  <thead>\n",
              "    <tr style=\"text-align: right;\">\n",
              "      <th></th>\n",
              "      <th>mean_fit_time</th>\n",
              "      <th>std_fit_time</th>\n",
              "      <th>mean_score_time</th>\n",
              "      <th>std_score_time</th>\n",
              "      <th>param_clf__alpha</th>\n",
              "      <th>param_tfidf__use_idf</th>\n",
              "      <th>param_vect__ngram_range</th>\n",
              "      <th>params</th>\n",
              "      <th>split0_test_score</th>\n",
              "      <th>split1_test_score</th>\n",
              "      <th>split2_test_score</th>\n",
              "      <th>split3_test_score</th>\n",
              "      <th>split4_test_score</th>\n",
              "      <th>mean_test_score</th>\n",
              "      <th>std_test_score</th>\n",
              "      <th>rank_test_score</th>\n",
              "    </tr>\n",
              "  </thead>\n",
              "  <tbody>\n",
              "    <tr>\n",
              "      <th>0</th>\n",
              "      <td>0.691115</td>\n",
              "      <td>0.011565</td>\n",
              "      <td>0.151566</td>\n",
              "      <td>0.016699</td>\n",
              "      <td>0.01</td>\n",
              "      <td>True</td>\n",
              "      <td>(1, 1)</td>\n",
              "      <td>{'clf__alpha': 0.01, 'tfidf__use_idf': True, '...</td>\n",
              "      <td>0.904867</td>\n",
              "      <td>0.915929</td>\n",
              "      <td>0.866962</td>\n",
              "      <td>0.895787</td>\n",
              "      <td>0.911308</td>\n",
              "      <td>0.898971</td>\n",
              "      <td>0.017374</td>\n",
              "      <td>10</td>\n",
              "    </tr>\n",
              "    <tr>\n",
              "      <th>1</th>\n",
              "      <td>2.420084</td>\n",
              "      <td>0.041851</td>\n",
              "      <td>0.315422</td>\n",
              "      <td>0.004897</td>\n",
              "      <td>0.01</td>\n",
              "      <td>True</td>\n",
              "      <td>(1, 2)</td>\n",
              "      <td>{'clf__alpha': 0.01, 'tfidf__use_idf': True, '...</td>\n",
              "      <td>0.935841</td>\n",
              "      <td>0.926991</td>\n",
              "      <td>0.898004</td>\n",
              "      <td>0.913525</td>\n",
              "      <td>0.920177</td>\n",
              "      <td>0.918908</td>\n",
              "      <td>0.012803</td>\n",
              "      <td>8</td>\n",
              "    </tr>\n",
              "    <tr>\n",
              "      <th>2</th>\n",
              "      <td>0.655135</td>\n",
              "      <td>0.036139</td>\n",
              "      <td>0.134220</td>\n",
              "      <td>0.007048</td>\n",
              "      <td>0.01</td>\n",
              "      <td>False</td>\n",
              "      <td>(1, 1)</td>\n",
              "      <td>{'clf__alpha': 0.01, 'tfidf__use_idf': False, ...</td>\n",
              "      <td>0.820796</td>\n",
              "      <td>0.787611</td>\n",
              "      <td>0.796009</td>\n",
              "      <td>0.833703</td>\n",
              "      <td>0.796009</td>\n",
              "      <td>0.806826</td>\n",
              "      <td>0.017440</td>\n",
              "      <td>12</td>\n",
              "    </tr>\n",
              "    <tr>\n",
              "      <th>3</th>\n",
              "      <td>2.378171</td>\n",
              "      <td>0.036120</td>\n",
              "      <td>0.309279</td>\n",
              "      <td>0.024767</td>\n",
              "      <td>0.01</td>\n",
              "      <td>False</td>\n",
              "      <td>(1, 2)</td>\n",
              "      <td>{'clf__alpha': 0.01, 'tfidf__use_idf': False, ...</td>\n",
              "      <td>0.825221</td>\n",
              "      <td>0.809735</td>\n",
              "      <td>0.813747</td>\n",
              "      <td>0.855876</td>\n",
              "      <td>0.820399</td>\n",
              "      <td>0.824996</td>\n",
              "      <td>0.016335</td>\n",
              "      <td>11</td>\n",
              "    </tr>\n",
              "    <tr>\n",
              "      <th>4</th>\n",
              "      <td>0.680175</td>\n",
              "      <td>0.037617</td>\n",
              "      <td>0.132948</td>\n",
              "      <td>0.009553</td>\n",
              "      <td>0.001</td>\n",
              "      <td>True</td>\n",
              "      <td>(1, 1)</td>\n",
              "      <td>{'clf__alpha': 0.001, 'tfidf__use_idf': True, ...</td>\n",
              "      <td>0.964602</td>\n",
              "      <td>0.962389</td>\n",
              "      <td>0.962306</td>\n",
              "      <td>0.964523</td>\n",
              "      <td>0.973392</td>\n",
              "      <td>0.965443</td>\n",
              "      <td>0.004097</td>\n",
              "      <td>3</td>\n",
              "    </tr>\n",
              "    <tr>\n",
              "      <th>5</th>\n",
              "      <td>2.475501</td>\n",
              "      <td>0.042632</td>\n",
              "      <td>0.322778</td>\n",
              "      <td>0.009345</td>\n",
              "      <td>0.001</td>\n",
              "      <td>True</td>\n",
              "      <td>(1, 2)</td>\n",
              "      <td>{'clf__alpha': 0.001, 'tfidf__use_idf': True, ...</td>\n",
              "      <td>0.966814</td>\n",
              "      <td>0.962389</td>\n",
              "      <td>0.953437</td>\n",
              "      <td>0.960089</td>\n",
              "      <td>0.964523</td>\n",
              "      <td>0.961450</td>\n",
              "      <td>0.004586</td>\n",
              "      <td>4</td>\n",
              "    </tr>\n",
              "    <tr>\n",
              "      <th>6</th>\n",
              "      <td>0.648877</td>\n",
              "      <td>0.029709</td>\n",
              "      <td>0.140574</td>\n",
              "      <td>0.015484</td>\n",
              "      <td>0.001</td>\n",
              "      <td>False</td>\n",
              "      <td>(1, 1)</td>\n",
              "      <td>{'clf__alpha': 0.001, 'tfidf__use_idf': False,...</td>\n",
              "      <td>0.915929</td>\n",
              "      <td>0.896018</td>\n",
              "      <td>0.929047</td>\n",
              "      <td>0.913525</td>\n",
              "      <td>0.935698</td>\n",
              "      <td>0.918043</td>\n",
              "      <td>0.013732</td>\n",
              "      <td>9</td>\n",
              "    </tr>\n",
              "    <tr>\n",
              "      <th>7</th>\n",
              "      <td>2.407900</td>\n",
              "      <td>0.045426</td>\n",
              "      <td>0.324937</td>\n",
              "      <td>0.011466</td>\n",
              "      <td>0.001</td>\n",
              "      <td>False</td>\n",
              "      <td>(1, 2)</td>\n",
              "      <td>{'clf__alpha': 0.001, 'tfidf__use_idf': False,...</td>\n",
              "      <td>0.931416</td>\n",
              "      <td>0.922566</td>\n",
              "      <td>0.935698</td>\n",
              "      <td>0.929047</td>\n",
              "      <td>0.937916</td>\n",
              "      <td>0.931329</td>\n",
              "      <td>0.005375</td>\n",
              "      <td>7</td>\n",
              "    </tr>\n",
              "    <tr>\n",
              "      <th>8</th>\n",
              "      <td>0.663651</td>\n",
              "      <td>0.033135</td>\n",
              "      <td>0.141205</td>\n",
              "      <td>0.010604</td>\n",
              "      <td>0.0001</td>\n",
              "      <td>True</td>\n",
              "      <td>(1, 1)</td>\n",
              "      <td>{'clf__alpha': 0.0001, 'tfidf__use_idf': True,...</td>\n",
              "      <td>0.971239</td>\n",
              "      <td>0.973451</td>\n",
              "      <td>0.968958</td>\n",
              "      <td>0.966741</td>\n",
              "      <td>0.975610</td>\n",
              "      <td>0.971200</td>\n",
              "      <td>0.003144</td>\n",
              "      <td>1</td>\n",
              "    </tr>\n",
              "    <tr>\n",
              "      <th>9</th>\n",
              "      <td>2.443267</td>\n",
              "      <td>0.037207</td>\n",
              "      <td>0.310558</td>\n",
              "      <td>0.013843</td>\n",
              "      <td>0.0001</td>\n",
              "      <td>True</td>\n",
              "      <td>(1, 2)</td>\n",
              "      <td>{'clf__alpha': 0.0001, 'tfidf__use_idf': True,...</td>\n",
              "      <td>0.975664</td>\n",
              "      <td>0.973451</td>\n",
              "      <td>0.968958</td>\n",
              "      <td>0.968958</td>\n",
              "      <td>0.966741</td>\n",
              "      <td>0.970754</td>\n",
              "      <td>0.003285</td>\n",
              "      <td>2</td>\n",
              "    </tr>\n",
              "    <tr>\n",
              "      <th>10</th>\n",
              "      <td>0.659779</td>\n",
              "      <td>0.032156</td>\n",
              "      <td>0.127262</td>\n",
              "      <td>0.007084</td>\n",
              "      <td>0.0001</td>\n",
              "      <td>False</td>\n",
              "      <td>(1, 1)</td>\n",
              "      <td>{'clf__alpha': 0.0001, 'tfidf__use_idf': False...</td>\n",
              "      <td>0.951327</td>\n",
              "      <td>0.944690</td>\n",
              "      <td>0.940133</td>\n",
              "      <td>0.940133</td>\n",
              "      <td>0.957871</td>\n",
              "      <td>0.946831</td>\n",
              "      <td>0.006876</td>\n",
              "      <td>6</td>\n",
              "    </tr>\n",
              "    <tr>\n",
              "      <th>11</th>\n",
              "      <td>2.170589</td>\n",
              "      <td>0.316727</td>\n",
              "      <td>0.282047</td>\n",
              "      <td>0.061121</td>\n",
              "      <td>0.0001</td>\n",
              "      <td>False</td>\n",
              "      <td>(1, 2)</td>\n",
              "      <td>{'clf__alpha': 0.0001, 'tfidf__use_idf': False...</td>\n",
              "      <td>0.957965</td>\n",
              "      <td>0.955752</td>\n",
              "      <td>0.957871</td>\n",
              "      <td>0.953437</td>\n",
              "      <td>0.964523</td>\n",
              "      <td>0.957910</td>\n",
              "      <td>0.003699</td>\n",
              "      <td>5</td>\n",
              "    </tr>\n",
              "  </tbody>\n",
              "</table>\n",
              "</div>\n",
              "      <button class=\"colab-df-convert\" onclick=\"convertToInteractive('df-16443e63-d5e6-47c7-993f-893283c44eec')\"\n",
              "              title=\"Convert this dataframe to an interactive table.\"\n",
              "              style=\"display:none;\">\n",
              "        \n",
              "  <svg xmlns=\"http://www.w3.org/2000/svg\" height=\"24px\"viewBox=\"0 0 24 24\"\n",
              "       width=\"24px\">\n",
              "    <path d=\"M0 0h24v24H0V0z\" fill=\"none\"/>\n",
              "    <path d=\"M18.56 5.44l.94 2.06.94-2.06 2.06-.94-2.06-.94-.94-2.06-.94 2.06-2.06.94zm-11 1L8.5 8.5l.94-2.06 2.06-.94-2.06-.94L8.5 2.5l-.94 2.06-2.06.94zm10 10l.94 2.06.94-2.06 2.06-.94-2.06-.94-.94-2.06-.94 2.06-2.06.94z\"/><path d=\"M17.41 7.96l-1.37-1.37c-.4-.4-.92-.59-1.43-.59-.52 0-1.04.2-1.43.59L10.3 9.45l-7.72 7.72c-.78.78-.78 2.05 0 2.83L4 21.41c.39.39.9.59 1.41.59.51 0 1.02-.2 1.41-.59l7.78-7.78 2.81-2.81c.8-.78.8-2.07 0-2.86zM5.41 20L4 18.59l7.72-7.72 1.47 1.35L5.41 20z\"/>\n",
              "  </svg>\n",
              "      </button>\n",
              "      \n",
              "  <style>\n",
              "    .colab-df-container {\n",
              "      display:flex;\n",
              "      flex-wrap:wrap;\n",
              "      gap: 12px;\n",
              "    }\n",
              "\n",
              "    .colab-df-convert {\n",
              "      background-color: #E8F0FE;\n",
              "      border: none;\n",
              "      border-radius: 50%;\n",
              "      cursor: pointer;\n",
              "      display: none;\n",
              "      fill: #1967D2;\n",
              "      height: 32px;\n",
              "      padding: 0 0 0 0;\n",
              "      width: 32px;\n",
              "    }\n",
              "\n",
              "    .colab-df-convert:hover {\n",
              "      background-color: #E2EBFA;\n",
              "      box-shadow: 0px 1px 2px rgba(60, 64, 67, 0.3), 0px 1px 3px 1px rgba(60, 64, 67, 0.15);\n",
              "      fill: #174EA6;\n",
              "    }\n",
              "\n",
              "    [theme=dark] .colab-df-convert {\n",
              "      background-color: #3B4455;\n",
              "      fill: #D2E3FC;\n",
              "    }\n",
              "\n",
              "    [theme=dark] .colab-df-convert:hover {\n",
              "      background-color: #434B5C;\n",
              "      box-shadow: 0px 1px 3px 1px rgba(0, 0, 0, 0.15);\n",
              "      filter: drop-shadow(0px 1px 2px rgba(0, 0, 0, 0.3));\n",
              "      fill: #FFFFFF;\n",
              "    }\n",
              "  </style>\n",
              "\n",
              "      <script>\n",
              "        const buttonEl =\n",
              "          document.querySelector('#df-16443e63-d5e6-47c7-993f-893283c44eec button.colab-df-convert');\n",
              "        buttonEl.style.display =\n",
              "          google.colab.kernel.accessAllowed ? 'block' : 'none';\n",
              "\n",
              "        async function convertToInteractive(key) {\n",
              "          const element = document.querySelector('#df-16443e63-d5e6-47c7-993f-893283c44eec');\n",
              "          const dataTable =\n",
              "            await google.colab.kernel.invokeFunction('convertToInteractive',\n",
              "                                                     [key], {});\n",
              "          if (!dataTable) return;\n",
              "\n",
              "          const docLinkHtml = 'Like what you see? Visit the ' +\n",
              "            '<a target=\"_blank\" href=https://colab.research.google.com/notebooks/data_table.ipynb>data table notebook</a>'\n",
              "            + ' to learn more about interactive tables.';\n",
              "          element.innerHTML = '';\n",
              "          dataTable['output_type'] = 'display_data';\n",
              "          await google.colab.output.renderOutput(dataTable, element);\n",
              "          const docLink = document.createElement('div');\n",
              "          docLink.innerHTML = docLinkHtml;\n",
              "          element.appendChild(docLink);\n",
              "        }\n",
              "      </script>\n",
              "    </div>\n",
              "  </div>\n",
              "  "
            ]
          },
          "metadata": {},
          "execution_count": 36
        }
      ]
    },
    {
      "cell_type": "markdown",
      "source": [
        "# Export model"
      ],
      "metadata": {
        "id": "bAejj_9ck3ne"
      }
    },
    {
      "cell_type": "code",
      "source": [
        "import pickle"
      ],
      "metadata": {
        "id": "4iu1Ifv-k3ZG"
      },
      "execution_count": null,
      "outputs": []
    },
    {
      "cell_type": "code",
      "source": [
        "data = {\"model\": gs_clf.best_estimator_, \"target_names\": twenty_train.target_names}\n",
        "with open('saved_steps.pkl', 'wb') as file:\n",
        "    pickle.dump(data, file)"
      ],
      "metadata": {
        "id": "C_tJGjHuk5cA"
      },
      "execution_count": null,
      "outputs": []
    },
    {
      "cell_type": "code",
      "source": [
        "with open('saved_steps.pkl', 'rb') as file:\n",
        "    data = pickle.load(file)\n",
        "\n",
        "clf_loaded = data[\"model\"]\n",
        "target_names_loaded = data[\"target_names\"]"
      ],
      "metadata": {
        "id": "iGadsgyilaGS"
      },
      "execution_count": null,
      "outputs": []
    },
    {
      "cell_type": "code",
      "source": [
        "y_pred = clf_loaded.predict([\"This Gaming Mouse will draw eyes to your desk thanks to its clean white exterior, slender shape, and glowing alien insignia.\"])\n",
        "target_names_loaded[y_pred[0]]"
      ],
      "metadata": {
        "colab": {
          "base_uri": "https://localhost:8080/",
          "height": 35
        },
        "id": "B7dxJcz7lkeh",
        "outputId": "8ea9be4b-0f1f-4b59-f827-c300f82342c1"
      },
      "execution_count": null,
      "outputs": [
        {
          "output_type": "execute_result",
          "data": {
            "text/plain": [
              "'comp.graphics'"
            ],
            "application/vnd.google.colaboratory.intrinsic+json": {
              "type": "string"
            }
          },
          "metadata": {},
          "execution_count": 40
        }
      ]
    }
  ]
}